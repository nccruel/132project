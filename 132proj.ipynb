{
 "cells": [
  {
   "cell_type": "code",
   "execution_count": 1,
   "metadata": {},
   "outputs": [
    {
     "data": {
      "text/html": [
       "<div>\n",
       "<style scoped>\n",
       "    .dataframe tbody tr th:only-of-type {\n",
       "        vertical-align: middle;\n",
       "    }\n",
       "\n",
       "    .dataframe tbody tr th {\n",
       "        vertical-align: top;\n",
       "    }\n",
       "\n",
       "    .dataframe thead th {\n",
       "        text-align: right;\n",
       "    }\n",
       "</style>\n",
       "<table border=\"1\" class=\"dataframe\">\n",
       "  <thead>\n",
       "    <tr style=\"text-align: right;\">\n",
       "      <th></th>\n",
       "      <th>sea_level</th>\n",
       "    </tr>\n",
       "    <tr>\n",
       "      <th>Time</th>\n",
       "      <th></th>\n",
       "    </tr>\n",
       "  </thead>\n",
       "  <tbody>\n",
       "    <tr>\n",
       "      <th>1880</th>\n",
       "      <td>-30.3</td>\n",
       "    </tr>\n",
       "    <tr>\n",
       "      <th>1881</th>\n",
       "      <td>-24.7</td>\n",
       "    </tr>\n",
       "    <tr>\n",
       "      <th>1882</th>\n",
       "      <td>-41.5</td>\n",
       "    </tr>\n",
       "    <tr>\n",
       "      <th>1883</th>\n",
       "      <td>-36.2</td>\n",
       "    </tr>\n",
       "    <tr>\n",
       "      <th>1884</th>\n",
       "      <td>-15.3</td>\n",
       "    </tr>\n",
       "  </tbody>\n",
       "</table>\n",
       "</div>"
      ],
      "text/plain": [
       "      sea_level\n",
       "Time           \n",
       "1880      -30.3\n",
       "1881      -24.7\n",
       "1882      -41.5\n",
       "1883      -36.2\n",
       "1884      -15.3"
      ]
     },
     "execution_count": 1,
     "metadata": {},
     "output_type": "execute_result"
    }
   ],
   "source": [
    "import pandas as pd\n",
    "import numpy as np\n",
    "from math import floor\n",
    "\n",
    "df = pd.read_csv(\"CSIRO_Recons_gmsl_yr_2019.csv\", header=0, index_col=0)\n",
    "df.drop(columns=[\"GMSL uncertainty (mm)\"], axis=1, inplace=True)\n",
    "df.rename(columns={\"Time\": \"year\", \"GMSL (mm)\": \"sea_level\"}, inplace=True)\n",
    "\n",
    "df.index = np.floor(df.index).astype(int)\n",
    "df.index = pd.to_datetime(df.index, format=\"%Y\").year\n",
    "df.head()"
   ]
  },
  {
   "cell_type": "code",
   "execution_count": 2,
   "metadata": {},
   "outputs": [
    {
     "name": "stderr",
     "output_type": "stream",
     "text": [
      "c:\\anaconda\\anaconda3\\lib\\site-packages\\statsmodels\\tsa\\base\\tsa_model.py:7: FutureWarning: pandas.Int64Index is deprecated and will be removed from pandas in a future version. Use pandas.Index with the appropriate dtype instead.\n",
      "  from pandas import (to_datetime, Int64Index, DatetimeIndex, Period,\n",
      "c:\\anaconda\\anaconda3\\lib\\site-packages\\statsmodels\\tsa\\base\\tsa_model.py:7: FutureWarning: pandas.Float64Index is deprecated and will be removed from pandas in a future version. Use pandas.Index with the appropriate dtype instead.\n",
      "  from pandas import (to_datetime, Int64Index, DatetimeIndex, Period,\n"
     ]
    }
   ],
   "source": [
    "# grid search ARIMA parameters for time series\n",
    "import warnings\n",
    "from math import sqrt\n",
    "from statsmodels.tsa.arima.model import ARIMA\n",
    "from sklearn.metrics import mean_squared_error\n",
    " \n",
    "# evaluate an ARIMA model for a given order (p,d,q)\n",
    "def evaluate_arima_model(X, arima_order):\n",
    "    # prepare training dataset\n",
    "    train_size = int(len(X) * 0.66)\n",
    "    train, test = X[0:train_size], X[train_size:]\n",
    "    history = [x for x in train]\n",
    "    # make predictions\n",
    "    predictions = list()\n",
    "    for t in range(len(test)):\n",
    "        model = ARIMA(history, order=arima_order)\n",
    "        model_fit = model.fit()\n",
    "        yhat = model_fit.forecast()[0]\n",
    "        predictions.append(yhat)\n",
    "        history.append(test[t])\n",
    "    # calculate out of sample error\n",
    "    rmse = sqrt(mean_squared_error(test, predictions))\n",
    "    return rmse\n",
    " \n",
    "# evaluate combinations of p, d and q values for an ARIMA model\n",
    "def evaluate_models(dataset, p_values, d_values, q_values):\n",
    "    dataset = dataset.astype('float32')\n",
    "    best_score, best_cfg = float(\"inf\"), None\n",
    "    for p in p_values:\n",
    "        for d in d_values:\n",
    "            for q in q_values:\n",
    "                order = (p,d,q)\n",
    "                try:\n",
    "                    rmse = evaluate_arima_model(dataset, order)\n",
    "                    if rmse < best_score:\n",
    "                        best_score, best_cfg = rmse, order\n",
    "                    print('ARIMA%s RMSE=%.3f' % (order,rmse))\n",
    "                except:\n",
    "                    continue\n",
    "    print('Best ARIMA%s RMSE=%.3f' % (best_cfg, best_score))\n",
    "    return best_cfg\n",
    " \n",
    "# evaluate parameters\n",
    "p_values = [0, 1, 2, 4, 6, 8, 10]\n",
    "d_values = range(0, 3)\n",
    "q_values = range(0, 3)\n",
    "warnings.filterwarnings(\"ignore\")\n",
    "# best_cfg = evaluate_models(df.values, p_values, d_values, q_values)"
   ]
  },
  {
   "cell_type": "code",
   "execution_count": 6,
   "metadata": {},
   "outputs": [],
   "source": [
    "# Rebuild ARIMA using best configuration\n",
    "X = df.values\n",
    "train_size = int(len(X) * 0.66)\n",
    "train, test = X[0:train_size], X[train_size:]\n",
    "history = [x for x in train]\n",
    "\n",
    "predictions = list()\n",
    "for t in range(len(test)):\n",
    "  model = ARIMA(history, order=(1,2,1))\n",
    "  model_fit = model.fit()\n",
    "  yhat = model_fit.forecast()[0]\n",
    "  predictions.append(yhat)\n",
    "  history.append(test[t])"
   ]
  },
  {
   "cell_type": "code",
   "execution_count": 9,
   "metadata": {},
   "outputs": [
    {
     "data": {
      "text/plain": [
       "[94.0286851349696,\n",
       " 102.28203203516165,\n",
       " 100.1351246734584,\n",
       " 107.15744404012696,\n",
       " 109.41395962684732,\n",
       " 108.20048159822478,\n",
       " 106.65095003447811,\n",
       " 110.80437428711441,\n",
       " 109.11091640045787,\n",
       " 111.93794052346948,\n",
       " 122.75160495171922,\n",
       " 122.09259888923145,\n",
       " 126.31496849002251,\n",
       " 128.2271116261594,\n",
       " 120.55668107547865,\n",
       " 117.89451683712711,\n",
       " 118.48488057941579,\n",
       " 122.0577742181787,\n",
       " 126.66261244409573,\n",
       " 128.93367852156783,\n",
       " 131.57608337492113,\n",
       " 134.47687364349915,\n",
       " 131.96344555218053,\n",
       " 133.15886524225775,\n",
       " 137.46183507321186,\n",
       " 142.54953315296393,\n",
       " 149.1473128230673,\n",
       " 142.85502372835214,\n",
       " 146.58500989797326,\n",
       " 152.09392962468746,\n",
       " 157.0921245095023,\n",
       " 160.76269935645362,\n",
       " 167.74729411067415,\n",
       " 169.20742068791725,\n",
       " 169.10791593970848,\n",
       " 172.1780012794678,\n",
       " 174.34645371522137,\n",
       " 180.8463050427549,\n",
       " 188.1126616750219,\n",
       " 195.0201417622609,\n",
       " 197.7197165338316,\n",
       " 203.37179573832117,\n",
       " 203.5315013840394,\n",
       " 210.9686195085842,\n",
       " 211.66833583647562,\n",
       " 210.79766880033293,\n",
       " 216.0656890084677,\n",
       " 219.16436487616363]"
      ]
     },
     "metadata": {},
     "output_type": "display_data"
    }
   ],
   "source": [
    "display(predictions)"
   ]
  }
 ],
 "metadata": {
  "interpreter": {
   "hash": "52d9bec1bd0dd1d60d9f041927d73dc99a1ae836019e05c066f33f67e6a94d9c"
  },
  "kernelspec": {
   "display_name": "Python 3.8.8 ('base')",
   "language": "python",
   "name": "python3"
  },
  "language_info": {
   "codemirror_mode": {
    "name": "ipython",
    "version": 3
   },
   "file_extension": ".py",
   "mimetype": "text/x-python",
   "name": "python",
   "nbconvert_exporter": "python",
   "pygments_lexer": "ipython3",
   "version": "3.8.8"
  },
  "orig_nbformat": 4
 },
 "nbformat": 4,
 "nbformat_minor": 2
}
